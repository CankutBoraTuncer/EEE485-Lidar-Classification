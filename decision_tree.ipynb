{
 "cells": [
  {
   "cell_type": "markdown",
   "metadata": {},
   "source": [
    "# Decision Tree"
   ]
  },
  {
   "cell_type": "code",
   "execution_count": 1,
   "metadata": {},
   "outputs": [
    {
     "name": "stdout",
     "output_type": "stream",
     "text": [
      "Ending of Importing...\n"
     ]
    }
   ],
   "source": [
    "import pandas as pd\n",
    "import numpy as np\n",
    "import seaborn as sns\n",
    "import matplotlib.pyplot as plt\n",
    "from sklearn.model_selection import train_test_split\n",
    "from DecisionTree import DecisionTree\n",
    "from sklearn.metrics import confusion_matrix\n",
    "from sklearn.metrics import f1_score, recall_score, precision_score\n",
    "\n",
    "data = pd.read_csv('FourClassDS.csv')\n",
    "print(\"Ending of Importing...\")"
   ]
  },
  {
   "cell_type": "markdown",
   "metadata": {},
   "source": [
    "## Verification Metrics"
   ]
  },
  {
   "cell_type": "code",
   "execution_count": 2,
   "metadata": {},
   "outputs": [],
   "source": [
    "def calc_accuracy(y_true, y_pred):\n",
    "    y_true = y_true.flatten()\n",
    "    total_samples = len(y_true)\n",
    "    correct_predictions = np.sum(y_true == y_pred)\n",
    "    return (correct_predictions / total_samples) \n",
    "\n",
    "def calc_metric(conf_matrix):\n",
    "    TP = []\n",
    "    TN = []\n",
    "    FP = []\n",
    "    FN = []\n",
    "\n",
    "    num_classes = conf_matrix.shape[0]\n",
    "\n",
    "    for i in range(num_classes):\n",
    "        TP.append(conf_matrix[i, i])\n",
    "        FN.append(np.sum(conf_matrix[i, :]) - TP[i])\n",
    "        FP.append(np.sum(conf_matrix[:, i]) - TP[i])\n",
    "        TN.append(np.sum(conf_matrix) - (FP[i] + FN[i] + TP[i]))\n",
    "    return TP, TN, FP, FN\n",
    "    \n",
    "def calc_precision(TP, FP):\n",
    "    micro = np.average(TP) / (np.average(TP) + np.average(FP))\n",
    "    macro = 0\n",
    "    for i in range(len(TP)):\n",
    "        macro += TP[i] / (TP[i] + FP[i])\n",
    "    macro /= len(TP)\n",
    "    return macro, micro\n",
    "\n",
    "def calc_recall(TP, FN):\n",
    "    micro = np.average(TP) / (np.average(TP) + np.average(FN))\n",
    "    macro = 0\n",
    "    for i in range(len(TP)):\n",
    "        macro += TP[i] / (TP[i] + FN[i])\n",
    "    macro /= len(TP)\n",
    "    return macro, micro\n",
    "\n",
    "def calc_f1_score(micro_prec, macro_prec, micro_recall, macro_recall):\n",
    "    micro = 2 * np.average(micro_prec) * np.average(micro_recall) / (np.average(micro_prec) + np.average(micro_recall))\n",
    "    macro = 0\n",
    "    for i in range(len(macro_prec)):\n",
    "        macro += 2 * macro_prec * macro_recall / (macro_prec + macro_recall)\n",
    "    macro /= len(macro_prec)\n",
    "    return macro, micro"
   ]
  },
  {
   "cell_type": "markdown",
   "metadata": {},
   "source": [
    "## Test Train Data"
   ]
  },
  {
   "cell_type": "code",
   "execution_count": 3,
   "metadata": {},
   "outputs": [
    {
     "name": "stdout",
     "output_type": "stream",
     "text": [
      "(287, 361) (124, 361)\n"
     ]
    }
   ],
   "source": [
    "x_train, x_test, y_train, y_test = train_test_split(data.iloc[:, 1:-1].values, data.iloc[:, -1].values, test_size=0.3)\n",
    "y_train = np.reshape(y_train,(x_train.shape[0], 1) )\n",
    "y_test  = np.reshape(y_test, (x_test.shape[0] , 1) )\n",
    "data_train = arr = np.hstack((x_train, y_train))\n",
    "data_test = arr = np.hstack((x_test, y_test))\n",
    "print(data_train.shape, data_test.shape)"
   ]
  },
  {
   "cell_type": "markdown",
   "metadata": {},
   "source": [
    "## Train "
   ]
  },
  {
   "cell_type": "code",
   "execution_count": 4,
   "metadata": {},
   "outputs": [
    {
     "name": "stdout",
     "output_type": "stream",
     "text": [
      "The tree is constructed\n"
     ]
    }
   ],
   "source": [
    "decision_tree = DecisionTree(data_train, 36)\n",
    "decision_tree.construct()"
   ]
  },
  {
   "cell_type": "markdown",
   "metadata": {},
   "source": [
    "## Training Results"
   ]
  },
  {
   "cell_type": "code",
   "execution_count": 5,
   "metadata": {},
   "outputs": [
    {
     "name": "stdout",
     "output_type": "stream",
     "text": [
      "0.7630662020905923\n"
     ]
    },
    {
     "data": {
      "image/png": "[encoded data removed]",
      "text/plain": [
       "<Figure size 800x600 with 1 Axes>"
      ]
     },
     "metadata": {},
     "output_type": "display_data"
    }
   ],
   "source": [
    "y_pred_train = []\n",
    "for i in range(data_train.shape[0]):\n",
    "    y_pred_train.append(decision_tree.predict(data_train[i,:], decision_tree.root_branch))\n",
    "print(calc_accuracy(y_train, y_pred_train))\n",
    "\n",
    "conf_matrix_train = confusion_matrix(y_train, y_pred_train)\n",
    "\n",
    "plt.figure(figsize=(8, 6))\n",
    "sns.heatmap(conf_matrix_train, annot=True, fmt='d', cmap='Blues', cbar=False)\n",
    "plt.title('Confusion Matrix')\n",
    "plt.xlabel('Predicted Label')\n",
    "plt.ylabel('True Label')\n",
    "plt.show()"
   ]
  },
  {
   "cell_type": "code",
   "execution_count": 6,
   "metadata": {},
   "outputs": [
    {
     "name": "stdout",
     "output_type": "stream",
     "text": [
      "Precision | Micro:  0.7630662020905923  Macro:  0.7729284047115019\n",
      "Recall | Micro:  0.7630662020905923  Macro:  0.7631361560813615\n",
      "F1 Score | Micro:  0.7630662020905923  Macro:  0.761998936276683\n"
     ]
    }
   ],
   "source": [
    "TP, TN, FP, FN = calc_metric(conf_matrix_train)\n",
    "\n",
    "\n",
    "\n",
    "macro_prec = precision_score(y_train, y_pred_train, average='macro')\n",
    "micro_prec = precision_score(y_train, y_pred_train, average='micro')\n",
    "\n",
    "macro_recall = recall_score(y_train, y_pred_train, average='macro')\n",
    "micro_recall = recall_score(y_train, y_pred_train, average='micro')\n",
    "\n",
    "macro_f1 = f1_score(y_train, y_pred_train, average='macro')\n",
    "micro_f1 = f1_score(y_train, y_pred_train, average='micro')\n",
    "\n",
    "print(\"Precision | Micro: \", micro_prec, \" Macro: \", macro_prec)\n",
    "print(\"Recall | Micro: \", micro_recall, \" Macro: \", macro_recall)\n",
    "print(\"F1 Score | Micro: \", micro_f1, \" Macro: \", macro_f1)"
   ]
  },
  {
   "cell_type": "markdown",
   "metadata": {},
   "source": [
    "## Testing Results"
   ]
  },
  {
   "cell_type": "code",
   "execution_count": 7,
   "metadata": {},
   "outputs": [
    {
     "name": "stdout",
     "output_type": "stream",
     "text": [
      "0.6693548387096774\n"
     ]
    },
    {
     "data": {
      "image/png": "[encoded data removed]",
      "text/plain": [
       "<Figure size 800x600 with 1 Axes>"
      ]
     },
     "metadata": {},
     "output_type": "display_data"
    }
   ],
   "source": [
    "y_pred_test = []\n",
    "for i in range(data_test.shape[0]):\n",
    "    y_pred_test.append(decision_tree.predict(data_test[i,:], decision_tree.root_branch))\n",
    "print(calc_accuracy(y_test, y_pred_test))\n",
    "\n",
    "conf_matrix_test = confusion_matrix(y_test, y_pred_test)\n",
    "\n",
    "plt.figure(figsize=(8, 6))\n",
    "sns.heatmap(conf_matrix_test, annot=True, fmt='d', cmap='Blues', cbar=False)\n",
    "plt.title('Confusion Matrix')\n",
    "plt.xlabel('Predicted Label')\n",
    "plt.ylabel('True Label')\n",
    "plt.show()"
   ]
  },
  {
   "cell_type": "code",
   "execution_count": 8,
   "metadata": {},
   "outputs": [
    {
     "name": "stdout",
     "output_type": "stream",
     "text": [
      "Precision | Micro:  0.6693548387096774  Macro:  0.6588857323232323\n",
      "Recall | Micro:  0.6693548387096774  Macro:  0.6568250377073906\n",
      "F1 Score | Micro:  0.6693548387096774  Macro:  0.6519230769230769\n"
     ]
    }
   ],
   "source": [
    "TP, TN, FP, FN = calc_metric(conf_matrix_test)\n",
    "macro_prec = precision_score(y_test, y_pred_test, average='macro')\n",
    "micro_prec = precision_score(y_test, y_pred_test, average='micro')\n",
    "\n",
    "macro_recall = recall_score(y_test, y_pred_test, average='macro')\n",
    "micro_recall = recall_score(y_test, y_pred_test, average='micro')\n",
    "\n",
    "macro_f1 = f1_score(y_test, y_pred_test, average='macro')\n",
    "micro_f1 = f1_score(y_test, y_pred_test, average='micro')\n",
    "\n",
    "print(\"Precision | Micro: \", micro_prec, \" Macro: \", macro_prec)\n",
    "print(\"Recall | Micro: \", micro_recall, \" Macro: \", macro_recall)\n",
    "print(\"F1 Score | Micro: \", micro_f1, \" Macro: \", macro_f1)"
   ]
  },
  {
   "cell_type": "markdown",
   "metadata": {},
   "source": [
    "## Find Ideal Depth Size"
   ]
  },
  {
   "cell_type": "code",
   "execution_count": 10,
   "metadata": {},
   "outputs": [
    {
     "name": "stdout",
     "output_type": "stream",
     "text": [
      "The tree is constructed\n",
      "For depth =  1  Accuracy =  0.46774193548387094\n",
      "The tree is constructed\n",
      "For depth =  2  Accuracy =  0.46774193548387094\n",
      "The tree is constructed\n",
      "For depth =  3  Accuracy =  0.46774193548387094\n",
      "The tree is constructed\n",
      "For depth =  4  Accuracy =  0.5161290322580645\n",
      "The tree is constructed\n",
      "For depth =  5  Accuracy =  0.532258064516129\n",
      "The tree is constructed\n",
      "For depth =  6  Accuracy =  0.5645161290322581\n",
      "The tree is constructed\n",
      "For depth =  7  Accuracy =  0.5645161290322581\n",
      "The tree is constructed\n",
      "For depth =  8  Accuracy =  0.6048387096774194\n",
      "The tree is constructed\n",
      "For depth =  9  Accuracy =  0.6370967741935484\n",
      "The tree is constructed\n",
      "For depth =  10  Accuracy =  0.6532258064516129\n",
      "The tree is constructed\n",
      "For depth =  11  Accuracy =  0.6532258064516129\n",
      "The tree is constructed\n",
      "For depth =  12  Accuracy =  0.6612903225806451\n",
      "The tree is constructed\n",
      "For depth =  13  Accuracy =  0.6532258064516129\n",
      "The tree is constructed\n",
      "For depth =  14  Accuracy =  0.6774193548387096\n",
      "The tree is constructed\n",
      "For depth =  15  Accuracy =  0.6693548387096774\n",
      "The tree is constructed\n",
      "For depth =  16  Accuracy =  0.6612903225806451\n",
      "The tree is constructed\n",
      "For depth =  17  Accuracy =  0.6693548387096774\n",
      "The tree is constructed\n",
      "For depth =  18  Accuracy =  0.6693548387096774\n",
      "The tree is constructed\n",
      "For depth =  19  Accuracy =  0.6693548387096774\n",
      "The tree is constructed\n",
      "For depth =  20  Accuracy =  0.6693548387096774\n",
      "The tree is constructed\n",
      "For depth =  21  Accuracy =  0.6693548387096774\n",
      "The tree is constructed\n",
      "For depth =  22  Accuracy =  0.6693548387096774\n",
      "The tree is constructed\n",
      "For depth =  23  Accuracy =  0.6693548387096774\n",
      "The tree is constructed\n",
      "For depth =  24  Accuracy =  0.6693548387096774\n",
      "The tree is constructed\n",
      "For depth =  25  Accuracy =  0.6693548387096774\n",
      "The tree is constructed\n",
      "For depth =  26  Accuracy =  0.6693548387096774\n",
      "The tree is constructed\n",
      "For depth =  27  Accuracy =  0.6693548387096774\n",
      "The tree is constructed\n",
      "For depth =  28  Accuracy =  0.6693548387096774\n",
      "The tree is constructed\n",
      "For depth =  29  Accuracy =  0.6693548387096774\n",
      "The tree is constructed\n",
      "For depth =  30  Accuracy =  0.6693548387096774\n",
      "The tree is constructed\n",
      "For depth =  31  Accuracy =  0.6693548387096774\n",
      "The tree is constructed\n",
      "For depth =  32  Accuracy =  0.6693548387096774\n"
     ]
    },
    {
     "data": {
      "image/png": "[encoded data removed]",
      "text/plain": [
       "<Figure size 640x480 with 1 Axes>"
      ]
     },
     "metadata": {},
     "output_type": "display_data"
    }
   ],
   "source": [
    "acc = []\n",
    "\n",
    "for i in range(1, 33):\n",
    "    decision_tree = DecisionTree(data_train, i)\n",
    "    decision_tree.construct()\n",
    "\n",
    "    y_pred_test = []\n",
    "    for j in range(data_test.shape[0]):\n",
    "        y_pred_test.append(decision_tree.predict(data_test[j,:], decision_tree.root_branch))\n",
    "    print(\"For depth = \", i, \" Accuracy = \", calc_accuracy(y_test, y_pred_test))\n",
    "    acc.append(calc_accuracy(y_test, y_pred_test))\n",
    "\n",
    "plt.plot(acc)\n",
    "plt.xlabel(\"Accuracy\")\n",
    "plt.ylabel(\"Depth\")\n",
    "plt.show()"
   ]
  }
 ],
 "metadata": {
  "kernelspec": {
   "display_name": "Python 3",
   "language": "python",
   "name": "python3"
  },
  "language_info": {
   "codemirror_mode": {
    "name": "ipython",
    "version": 3
   },
   "file_extension": ".py",
   "mimetype": "text/x-python",
   "name": "python",
   "nbconvert_exporter": "python",
   "pygments_lexer": "ipython3",
   "version": "3.8.10"
  }
 },
 "nbformat": 4,
 "nbformat_minor": 2
}
